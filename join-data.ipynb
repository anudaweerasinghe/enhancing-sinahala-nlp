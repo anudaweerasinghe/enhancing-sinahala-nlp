{
 "cells": [
  {
   "cell_type": "code",
   "id": "initial_id",
   "metadata": {
    "collapsed": true,
    "ExecuteTime": {
     "end_time": "2024-07-23T13:41:37.979822Z",
     "start_time": "2024-07-23T13:41:37.957618Z"
    }
   },
   "source": [
    "import re\n",
    "import pandas as pd\n",
    "import os\n",
    "\n",
    "base_file_name = 'cot-fsopt'  # Base file name to match\n",
    "folder_path = 'outputs/cot-fsopt'  # Folder containing the CSV files\n",
    "\n",
    "\n",
    "def collect_csvs():\n",
    "    pattern = re.compile(rf\"^(\\d+)-{re.escape(base_file_name)}\\.csv$\")\n",
    "    csv_files = [file for file in os.listdir(folder_path) if pattern.match(file)]\n",
    "    csv_files.sort(key=lambda x: int(re.findall(r'^\\d+', x)[0]))\n",
    "    return csv_files\n",
    "\n",
    "\n",
    "csv_files = collect_csvs()\n",
    "\n",
    "\n",
    "def combine_csv_files():\n",
    "    df = pd.concat([pd.read_csv(os.path.join(folder_path, file)) for file in csv_files], ignore_index=True)\n",
    "    return df"
   ],
   "outputs": [],
   "execution_count": 67
  },
  {
   "metadata": {
    "ExecuteTime": {
     "end_time": "2024-07-23T13:41:52.853891Z",
     "start_time": "2024-07-23T13:41:40.340090Z"
    }
   },
   "cell_type": "code",
   "source": [
    "merged_df = combine_csv_files()\n",
    "merged_df"
   ],
   "id": "e6f53bf4c25125ef",
   "outputs": [
    {
     "data": {
      "text/plain": [
       "            Id                                     Original Input  \\\n",
       "0            0  The man be showing his toys to adults and not ...   \n",
       "1            1  [QUESTION] If \"A brown dog is on the ground gr...   \n",
       "2            2  Jax: Which of the following sentences is nonse...   \n",
       "3            3  Student asked: Given the sentence \"A boy weari...   \n",
       "4            4  **Q**\\nIs the following sentence factually cor...   \n",
       "...        ...                                                ...   \n",
       "182899  182899  Q: Premise: \"A boy and girl are placing a red ...   \n",
       "182900  182900  [Of the below sentences, which one does *not* ...   \n",
       "182901  182901  Just because the gymnast is flipping does not ...   \n",
       "182902  182902  Test for natural language inference.\\nPremise:...   \n",
       "182903  182903  Q: Given the sentence \"A group of dogs run dow...   \n",
       "\n",
       "                                         Translated Input  \\\n",
       "0       මිනිසා තම සෙල්ලම් බඩු දරුවන්ට පමණක් නොව වැඩිහි...   \n",
       "1       [ප්‍රශ්නය] \"දුඹුරු බල්ලෙක් ගොරවමින් බිම සිටී න...   \n",
       "2       Jax: පහත සඳහන් වාක්‍යවලින් විකාරද?\\nවිකල්ප:\\n-...   \n",
       "3       ශිෂ්‍යයා ඇසුවේය: \"දම් පැහැති කමිසයක් ඇඳ සිටින ...   \n",
       "4       **ප්‍ර**\\nපහත වාක්‍යය සත්‍ය වශයෙන්ම නිවැරදිද?\\...   \n",
       "...                                                   ...   \n",
       "182899  ප්‍රශ්නය: පූර්විකාව: \"පිරිමි ළමයෙක් සහ ගැහැණු ...   \n",
       "182900  [පහත දැක්වෙන වාක්‍ය වලින්, *තේරෙන්නේ නැති* එක ...   \n",
       "182901  ජිම්නාස්ටික් ක්‍රීඩිකාව පෙරළීම නිසා ඇය බාර්වල ...   \n",
       "182902  ස්වාභාවික භාෂා අනුමාන සඳහා පරීක්ෂණය.\\nපරිශ්රය:...   \n",
       "182903  ප්‍රශ්නය: \"සුනඛයන් පිරිසක් වියලි පිට්ටනියක් දි...   \n",
       "\n",
       "                                          Original Target  \\\n",
       "0       Premise: \"Woman skates in possession of puck.\"...   \n",
       "1       A man is break dancing and collecting a lot of...   \n",
       "2       Chain of thought: A watch is not worn on one's...   \n",
       "3       Let's think. A group is on the river regardles...   \n",
       "4       no\\nLaughter is not a response of fear but to ...   \n",
       "...                                                   ...   \n",
       "182899  The couple is enjoying the wedding but it is n...   \n",
       "182900  My step-by-step solution first: Rude people ar...   \n",
       "182901  If \"A large boat drives through the harbor.\" d...   \n",
       "182902  A man walking in front of a Heal's store is no...   \n",
       "182903  Throwing a ball in a bowling alley does not im...   \n",
       "\n",
       "                                        Translated Target  \n",
       "0       පරිශ්‍රය: \"කාන්තාවක් සන්තකයේ ලිස්සා යයි.\"\\nමෙම...  \n",
       "1       මිනිසෙක් බ්‍රේක් ඩාන්ස් කරමින් සමූහයාගෙන් විශා...  \n",
       "2       සිතුවිලි දාමය: කෙනෙකුගේ නාසයේ ඔරලෝසුවක් පැළඳ න...  \n",
       "3       අපි හිතමු. මොනවා ඇඳගෙන හිටියත් කට්ටියක් ගඟේ ඉන...  \n",
       "4       නැත\\nසිනහව යනු භීතියේ ප්‍රතිචාරයක් නොව හාස්‍යය...  \n",
       "...                                                   ...  \n",
       "182899  යුවළ විවාහ මංගල්යය භුක්ති විඳින නමුත් එය එළිමහ...  \n",
       "182900  මගේ පියවරෙන් පියවර විසඳුම පළමුව: රළු මිනිසුන් ...  \n",
       "182901  \"වරාය හරහා විශාල බෝට්ටුවක් ධාවනය කරන්නේ නම්.\" ...  \n",
       "182902  හීල් සාප්පුවක් ඉදිරිපිට ඇවිදින මිනිසෙකු මිල දී...  \n",
       "182903  පන්දු යැවීමේ පිටියකට පන්දුවක් විසි කිරීමෙන් එය...  \n",
       "\n",
       "[182904 rows x 5 columns]"
      ],
      "text/html": [
       "<div>\n",
       "<style scoped>\n",
       "    .dataframe tbody tr th:only-of-type {\n",
       "        vertical-align: middle;\n",
       "    }\n",
       "\n",
       "    .dataframe tbody tr th {\n",
       "        vertical-align: top;\n",
       "    }\n",
       "\n",
       "    .dataframe thead th {\n",
       "        text-align: right;\n",
       "    }\n",
       "</style>\n",
       "<table border=\"1\" class=\"dataframe\">\n",
       "  <thead>\n",
       "    <tr style=\"text-align: right;\">\n",
       "      <th></th>\n",
       "      <th>Id</th>\n",
       "      <th>Original Input</th>\n",
       "      <th>Translated Input</th>\n",
       "      <th>Original Target</th>\n",
       "      <th>Translated Target</th>\n",
       "    </tr>\n",
       "  </thead>\n",
       "  <tbody>\n",
       "    <tr>\n",
       "      <th>0</th>\n",
       "      <td>0</td>\n",
       "      <td>The man be showing his toys to adults and not ...</td>\n",
       "      <td>මිනිසා තම සෙල්ලම් බඩු දරුවන්ට පමණක් නොව වැඩිහි...</td>\n",
       "      <td>Premise: \"Woman skates in possession of puck.\"...</td>\n",
       "      <td>පරිශ්‍රය: \"කාන්තාවක් සන්තකයේ ලිස්සා යයි.\"\\nමෙම...</td>\n",
       "    </tr>\n",
       "    <tr>\n",
       "      <th>1</th>\n",
       "      <td>1</td>\n",
       "      <td>[QUESTION] If \"A brown dog is on the ground gr...</td>\n",
       "      <td>[ප්‍රශ්නය] \"දුඹුරු බල්ලෙක් ගොරවමින් බිම සිටී න...</td>\n",
       "      <td>A man is break dancing and collecting a lot of...</td>\n",
       "      <td>මිනිසෙක් බ්‍රේක් ඩාන්ස් කරමින් සමූහයාගෙන් විශා...</td>\n",
       "    </tr>\n",
       "    <tr>\n",
       "      <th>2</th>\n",
       "      <td>2</td>\n",
       "      <td>Jax: Which of the following sentences is nonse...</td>\n",
       "      <td>Jax: පහත සඳහන් වාක්‍යවලින් විකාරද?\\nවිකල්ප:\\n-...</td>\n",
       "      <td>Chain of thought: A watch is not worn on one's...</td>\n",
       "      <td>සිතුවිලි දාමය: කෙනෙකුගේ නාසයේ ඔරලෝසුවක් පැළඳ න...</td>\n",
       "    </tr>\n",
       "    <tr>\n",
       "      <th>3</th>\n",
       "      <td>3</td>\n",
       "      <td>Student asked: Given the sentence \"A boy weari...</td>\n",
       "      <td>ශිෂ්‍යයා ඇසුවේය: \"දම් පැහැති කමිසයක් ඇඳ සිටින ...</td>\n",
       "      <td>Let's think. A group is on the river regardles...</td>\n",
       "      <td>අපි හිතමු. මොනවා ඇඳගෙන හිටියත් කට්ටියක් ගඟේ ඉන...</td>\n",
       "    </tr>\n",
       "    <tr>\n",
       "      <th>4</th>\n",
       "      <td>4</td>\n",
       "      <td>**Q**\\nIs the following sentence factually cor...</td>\n",
       "      <td>**ප්‍ර**\\nපහත වාක්‍යය සත්‍ය වශයෙන්ම නිවැරදිද?\\...</td>\n",
       "      <td>no\\nLaughter is not a response of fear but to ...</td>\n",
       "      <td>නැත\\nසිනහව යනු භීතියේ ප්‍රතිචාරයක් නොව හාස්‍යය...</td>\n",
       "    </tr>\n",
       "    <tr>\n",
       "      <th>...</th>\n",
       "      <td>...</td>\n",
       "      <td>...</td>\n",
       "      <td>...</td>\n",
       "      <td>...</td>\n",
       "      <td>...</td>\n",
       "    </tr>\n",
       "    <tr>\n",
       "      <th>182899</th>\n",
       "      <td>182899</td>\n",
       "      <td>Q: Premise: \"A boy and girl are placing a red ...</td>\n",
       "      <td>ප්‍රශ්නය: පූර්විකාව: \"පිරිමි ළමයෙක් සහ ගැහැණු ...</td>\n",
       "      <td>The couple is enjoying the wedding but it is n...</td>\n",
       "      <td>යුවළ විවාහ මංගල්යය භුක්ති විඳින නමුත් එය එළිමහ...</td>\n",
       "    </tr>\n",
       "    <tr>\n",
       "      <th>182900</th>\n",
       "      <td>182900</td>\n",
       "      <td>[Of the below sentences, which one does *not* ...</td>\n",
       "      <td>[පහත දැක්වෙන වාක්‍ය වලින්, *තේරෙන්නේ නැති* එක ...</td>\n",
       "      <td>My step-by-step solution first: Rude people ar...</td>\n",
       "      <td>මගේ පියවරෙන් පියවර විසඳුම පළමුව: රළු මිනිසුන් ...</td>\n",
       "    </tr>\n",
       "    <tr>\n",
       "      <th>182901</th>\n",
       "      <td>182901</td>\n",
       "      <td>Just because the gymnast is flipping does not ...</td>\n",
       "      <td>ජිම්නාස්ටික් ක්‍රීඩිකාව පෙරළීම නිසා ඇය බාර්වල ...</td>\n",
       "      <td>If \"A large boat drives through the harbor.\" d...</td>\n",
       "      <td>\"වරාය හරහා විශාල බෝට්ටුවක් ධාවනය කරන්නේ නම්.\" ...</td>\n",
       "    </tr>\n",
       "    <tr>\n",
       "      <th>182902</th>\n",
       "      <td>182902</td>\n",
       "      <td>Test for natural language inference.\\nPremise:...</td>\n",
       "      <td>ස්වාභාවික භාෂා අනුමාන සඳහා පරීක්ෂණය.\\nපරිශ්රය:...</td>\n",
       "      <td>A man walking in front of a Heal's store is no...</td>\n",
       "      <td>හීල් සාප්පුවක් ඉදිරිපිට ඇවිදින මිනිසෙකු මිල දී...</td>\n",
       "    </tr>\n",
       "    <tr>\n",
       "      <th>182903</th>\n",
       "      <td>182903</td>\n",
       "      <td>Q: Given the sentence \"A group of dogs run dow...</td>\n",
       "      <td>ප්‍රශ්නය: \"සුනඛයන් පිරිසක් වියලි පිට්ටනියක් දි...</td>\n",
       "      <td>Throwing a ball in a bowling alley does not im...</td>\n",
       "      <td>පන්දු යැවීමේ පිටියකට පන්දුවක් විසි කිරීමෙන් එය...</td>\n",
       "    </tr>\n",
       "  </tbody>\n",
       "</table>\n",
       "<p>182904 rows × 5 columns</p>\n",
       "</div>"
      ]
     },
     "execution_count": 68,
     "metadata": {},
     "output_type": "execute_result"
    }
   ],
   "execution_count": 68
  },
  {
   "metadata": {
    "ExecuteTime": {
     "end_time": "2024-07-23T13:43:44.547345Z",
     "start_time": "2024-07-23T13:43:42.061824Z"
    }
   },
   "cell_type": "code",
   "source": [
    "# Load Original Dataset to Verify\n",
    "import utils\n",
    "\n",
    "folder_path = 'datasets/cot-fsopt'  # Folder containing the original dataset\n",
    "dataset = utils.load_dataset(folder_path)\n",
    "\n",
    "\n",
    "def check_dataset_length(df: pd.DataFrame, dataset: pd.DataFrame) -> bool:\n",
    "    length_check = len(df) == len(dataset)\n",
    "    if length_check:\n",
    "        print(\"Length check passed.\")\n",
    "    else:\n",
    "        print(f\"Length check failed. Translated: {len(df)}, Original: {len(dataset)}\")\n",
    "    return length_check\n",
    "\n",
    "\n",
    "print(len(merged_df), len(dataset))\n",
    "length_check = check_dataset_length(merged_df, dataset)"
   ],
   "id": "efb8ea9d8d5f1268",
   "outputs": [
    {
     "name": "stdout",
     "output_type": "stream",
     "text": [
      "182904 182904\n",
      "Length check passed.\n"
     ]
    }
   ],
   "execution_count": 70
  },
  {
   "metadata": {
    "ExecuteTime": {
     "end_time": "2024-07-23T12:41:15.747444Z",
     "start_time": "2024-07-23T12:41:15.702357Z"
    }
   },
   "cell_type": "code",
   "source": [
    "def check_row_continuity(df: pd.DataFrame, id_column: str = 'Id') -> bool:\n",
    "    expected_ids = set(df[id_column])\n",
    "    actual_ids = set(range(len(dataset)))\n",
    "\n",
    "    missing_ids = expected_ids - actual_ids\n",
    "    extra_ids = actual_ids - expected_ids\n",
    "\n",
    "    if missing_ids:\n",
    "        print(f\"Missing IDs: {sorted(missing_ids)}\")\n",
    "\n",
    "    if extra_ids:\n",
    "        print(f\"Extra IDs: {sorted(extra_ids)}\")\n",
    "\n",
    "    if missing_ids or extra_ids:\n",
    "        return False\n",
    "    else:\n",
    "        print(\"All rows are present and in order.\")\n",
    "        return True\n",
    "\n",
    "\n",
    "db_continuity = check_row_continuity(merged_df)"
   ],
   "id": "d6628ba16d717b7",
   "outputs": [
    {
     "name": "stdout",
     "output_type": "stream",
     "text": [
      "All rows are present and in order.\n"
     ]
    }
   ],
   "execution_count": 62
  },
  {
   "metadata": {
    "ExecuteTime": {
     "end_time": "2024-07-23T12:41:21.033235Z",
     "start_time": "2024-07-23T12:41:20.936616Z"
    }
   },
   "cell_type": "code",
   "source": [
    "# Adding metadata to the merged dataset\n",
    "dataset_metadata = dataset.loc[:, ~dataset.columns.isin(['inputs', 'targets'])]\n",
    "print(f\"Metadata length: {len(dataset_metadata)}\")\n",
    "\n",
    "assert len(dataset_metadata) == len(merged_df)\n",
    "merged_df_with_metadata = pd.concat([merged_df, dataset_metadata], axis=1)\n",
    "\n",
    "merged_df_with_metadata"
   ],
   "id": "554d5cd655d0523d",
   "outputs": [
    {
     "name": "stdout",
     "output_type": "stream",
     "text": [
      "Metadata length: 182904\n"
     ]
    },
    {
     "data": {
      "text/plain": [
       "            Id                                     Original Input  \\\n",
       "0            0  The man be showing his toys to adults and not ...   \n",
       "1            1  [QUESTION] If \"A brown dog is on the ground gr...   \n",
       "2            2  Jax: Which of the following sentences is nonse...   \n",
       "3            3  Student asked: Given the sentence \"A boy weari...   \n",
       "4            4  **Q**\\nIs the following sentence factually cor...   \n",
       "...        ...                                                ...   \n",
       "182899  182899  Q: Premise: \"A boy and girl are placing a red ...   \n",
       "182900  182900  [Of the below sentences, which one does *not* ...   \n",
       "182901  182901  Just because the gymnast is flipping does not ...   \n",
       "182902  182902  Test for natural language inference.\\nPremise:...   \n",
       "182903  182903  Q: Given the sentence \"A group of dogs run dow...   \n",
       "\n",
       "                                         Translated Input  \\\n",
       "0       මිනිසා තම සෙල්ලම් බඩු දරුවන්ට පමණක් නොව වැඩිහි...   \n",
       "1       [ප්‍රශ්නය] \"දුඹුරු බල්ලෙක් ගොරවමින් බිම සිටී න...   \n",
       "2       Jax: පහත සඳහන් වාක්‍යවලින් විකාරද?\\nවිකල්ප:\\n-...   \n",
       "3       ශිෂ්‍යයා ඇසුවේය: \"දම් පැහැති කමිසයක් ඇඳ සිටින ...   \n",
       "4       **ප්‍ර**\\nපහත වාක්‍යය සත්‍ය වශයෙන්ම නිවැරදිද?\\...   \n",
       "...                                                   ...   \n",
       "182899  ප්‍රශ්නය: පූර්විකාව: \"පිරිමි ළමයෙක් සහ ගැහැණු ...   \n",
       "182900  [පහත දැක්වෙන වාක්‍ය වලින්, *තේරෙන්නේ නැති* එක ...   \n",
       "182901  ජිම්නාස්ටික් ක්‍රීඩිකාව පෙරළීම නිසා ඇය බාර්වල ...   \n",
       "182902  ස්වාභාවික භාෂා අනුමාන සඳහා පරීක්ෂණය.\\nපරිශ්රය:...   \n",
       "182903  ප්‍රශ්නය: \"සුනඛයන් පිරිසක් වියලි පිට්ටනියක් දි...   \n",
       "\n",
       "                                          Original Target  \\\n",
       "0       Premise: \"Woman skates in possession of puck.\"...   \n",
       "1       A man is break dancing and collecting a lot of...   \n",
       "2       Chain of thought: A watch is not worn on one's...   \n",
       "3       Let's think. A group is on the river regardles...   \n",
       "4       no\\nLaughter is not a response of fear but to ...   \n",
       "...                                                   ...   \n",
       "182899  The couple is enjoying the wedding but it is n...   \n",
       "182900  My step-by-step solution first: Rude people ar...   \n",
       "182901  If \"A large boat drives through the harbor.\" d...   \n",
       "182902  A man walking in front of a Heal's store is no...   \n",
       "182903  Throwing a ball in a bowling alley does not im...   \n",
       "\n",
       "                                        Translated Target  _template_idx  \\\n",
       "0       පරිශ්‍රය: \"කාන්තාවක් සන්තකයේ ලිස්සා යයි.\"\\nමෙම...              1   \n",
       "1       මිනිසෙක් බ්‍රේක් ඩාන්ස් කරමින් සමූහයාගෙන් විශා...              0   \n",
       "2       සිතුවිලි දාමය: කෙනෙකුගේ නාසයේ ඔරලෝසුවක් පැළඳ න...              1   \n",
       "3       අපි හිතමු. මොනවා ඇඳගෙන හිටියත් කට්ටියක් ගඟේ ඉන...              7   \n",
       "4       නැත\\nසිනහව යනු භීතියේ ප්‍රතිචාරයක් නොව හාස්‍යය...              1   \n",
       "...                                                   ...            ...   \n",
       "182899  යුවළ විවාහ මංගල්යය භුක්ති විඳින නමුත් එය එළිමහ...              2   \n",
       "182900  මගේ පියවරෙන් පියවර විසඳුම පළමුව: රළු මිනිසුන් ...              7   \n",
       "182901  \"වරාය හරහා විශාල බෝට්ටුවක් ධාවනය කරන්නේ නම්.\" ...              2   \n",
       "182902  හීල් සාප්පුවක් ඉදිරිපිට ඇවිදින මිනිසෙකු මිල දී...              3   \n",
       "182903  පන්දු යැවීමේ පිටියකට පන්දුවක් විසි කිරීමෙන් එය...              4   \n",
       "\n",
       "       _task_source       _task_name _template_type  \n",
       "0               CoT     cot_esnli_ii         fs_opt  \n",
       "1               CoT        cot_esnli         fs_opt  \n",
       "2               CoT  cot_sensemaking         fs_opt  \n",
       "3               CoT        cot_esnli         fs_opt  \n",
       "4               CoT        cot_creak         fs_opt  \n",
       "...             ...              ...            ...  \n",
       "182899          CoT        cot_esnli         fs_opt  \n",
       "182900          CoT  cot_sensemaking         fs_opt  \n",
       "182901          CoT     cot_esnli_ii         fs_opt  \n",
       "182902          CoT        cot_esnli         fs_opt  \n",
       "182903          CoT        cot_esnli         fs_opt  \n",
       "\n",
       "[182904 rows x 9 columns]"
      ],
      "text/html": [
       "<div>\n",
       "<style scoped>\n",
       "    .dataframe tbody tr th:only-of-type {\n",
       "        vertical-align: middle;\n",
       "    }\n",
       "\n",
       "    .dataframe tbody tr th {\n",
       "        vertical-align: top;\n",
       "    }\n",
       "\n",
       "    .dataframe thead th {\n",
       "        text-align: right;\n",
       "    }\n",
       "</style>\n",
       "<table border=\"1\" class=\"dataframe\">\n",
       "  <thead>\n",
       "    <tr style=\"text-align: right;\">\n",
       "      <th></th>\n",
       "      <th>Id</th>\n",
       "      <th>Original Input</th>\n",
       "      <th>Translated Input</th>\n",
       "      <th>Original Target</th>\n",
       "      <th>Translated Target</th>\n",
       "      <th>_template_idx</th>\n",
       "      <th>_task_source</th>\n",
       "      <th>_task_name</th>\n",
       "      <th>_template_type</th>\n",
       "    </tr>\n",
       "  </thead>\n",
       "  <tbody>\n",
       "    <tr>\n",
       "      <th>0</th>\n",
       "      <td>0</td>\n",
       "      <td>The man be showing his toys to adults and not ...</td>\n",
       "      <td>මිනිසා තම සෙල්ලම් බඩු දරුවන්ට පමණක් නොව වැඩිහි...</td>\n",
       "      <td>Premise: \"Woman skates in possession of puck.\"...</td>\n",
       "      <td>පරිශ්‍රය: \"කාන්තාවක් සන්තකයේ ලිස්සා යයි.\"\\nමෙම...</td>\n",
       "      <td>1</td>\n",
       "      <td>CoT</td>\n",
       "      <td>cot_esnli_ii</td>\n",
       "      <td>fs_opt</td>\n",
       "    </tr>\n",
       "    <tr>\n",
       "      <th>1</th>\n",
       "      <td>1</td>\n",
       "      <td>[QUESTION] If \"A brown dog is on the ground gr...</td>\n",
       "      <td>[ප්‍රශ්නය] \"දුඹුරු බල්ලෙක් ගොරවමින් බිම සිටී න...</td>\n",
       "      <td>A man is break dancing and collecting a lot of...</td>\n",
       "      <td>මිනිසෙක් බ්‍රේක් ඩාන්ස් කරමින් සමූහයාගෙන් විශා...</td>\n",
       "      <td>0</td>\n",
       "      <td>CoT</td>\n",
       "      <td>cot_esnli</td>\n",
       "      <td>fs_opt</td>\n",
       "    </tr>\n",
       "    <tr>\n",
       "      <th>2</th>\n",
       "      <td>2</td>\n",
       "      <td>Jax: Which of the following sentences is nonse...</td>\n",
       "      <td>Jax: පහත සඳහන් වාක්‍යවලින් විකාරද?\\nවිකල්ප:\\n-...</td>\n",
       "      <td>Chain of thought: A watch is not worn on one's...</td>\n",
       "      <td>සිතුවිලි දාමය: කෙනෙකුගේ නාසයේ ඔරලෝසුවක් පැළඳ න...</td>\n",
       "      <td>1</td>\n",
       "      <td>CoT</td>\n",
       "      <td>cot_sensemaking</td>\n",
       "      <td>fs_opt</td>\n",
       "    </tr>\n",
       "    <tr>\n",
       "      <th>3</th>\n",
       "      <td>3</td>\n",
       "      <td>Student asked: Given the sentence \"A boy weari...</td>\n",
       "      <td>ශිෂ්‍යයා ඇසුවේය: \"දම් පැහැති කමිසයක් ඇඳ සිටින ...</td>\n",
       "      <td>Let's think. A group is on the river regardles...</td>\n",
       "      <td>අපි හිතමු. මොනවා ඇඳගෙන හිටියත් කට්ටියක් ගඟේ ඉන...</td>\n",
       "      <td>7</td>\n",
       "      <td>CoT</td>\n",
       "      <td>cot_esnli</td>\n",
       "      <td>fs_opt</td>\n",
       "    </tr>\n",
       "    <tr>\n",
       "      <th>4</th>\n",
       "      <td>4</td>\n",
       "      <td>**Q**\\nIs the following sentence factually cor...</td>\n",
       "      <td>**ප්‍ර**\\nපහත වාක්‍යය සත්‍ය වශයෙන්ම නිවැරදිද?\\...</td>\n",
       "      <td>no\\nLaughter is not a response of fear but to ...</td>\n",
       "      <td>නැත\\nසිනහව යනු භීතියේ ප්‍රතිචාරයක් නොව හාස්‍යය...</td>\n",
       "      <td>1</td>\n",
       "      <td>CoT</td>\n",
       "      <td>cot_creak</td>\n",
       "      <td>fs_opt</td>\n",
       "    </tr>\n",
       "    <tr>\n",
       "      <th>...</th>\n",
       "      <td>...</td>\n",
       "      <td>...</td>\n",
       "      <td>...</td>\n",
       "      <td>...</td>\n",
       "      <td>...</td>\n",
       "      <td>...</td>\n",
       "      <td>...</td>\n",
       "      <td>...</td>\n",
       "      <td>...</td>\n",
       "    </tr>\n",
       "    <tr>\n",
       "      <th>182899</th>\n",
       "      <td>182899</td>\n",
       "      <td>Q: Premise: \"A boy and girl are placing a red ...</td>\n",
       "      <td>ප්‍රශ්නය: පූර්විකාව: \"පිරිමි ළමයෙක් සහ ගැහැණු ...</td>\n",
       "      <td>The couple is enjoying the wedding but it is n...</td>\n",
       "      <td>යුවළ විවාහ මංගල්යය භුක්ති විඳින නමුත් එය එළිමහ...</td>\n",
       "      <td>2</td>\n",
       "      <td>CoT</td>\n",
       "      <td>cot_esnli</td>\n",
       "      <td>fs_opt</td>\n",
       "    </tr>\n",
       "    <tr>\n",
       "      <th>182900</th>\n",
       "      <td>182900</td>\n",
       "      <td>[Of the below sentences, which one does *not* ...</td>\n",
       "      <td>[පහත දැක්වෙන වාක්‍ය වලින්, *තේරෙන්නේ නැති* එක ...</td>\n",
       "      <td>My step-by-step solution first: Rude people ar...</td>\n",
       "      <td>මගේ පියවරෙන් පියවර විසඳුම පළමුව: රළු මිනිසුන් ...</td>\n",
       "      <td>7</td>\n",
       "      <td>CoT</td>\n",
       "      <td>cot_sensemaking</td>\n",
       "      <td>fs_opt</td>\n",
       "    </tr>\n",
       "    <tr>\n",
       "      <th>182901</th>\n",
       "      <td>182901</td>\n",
       "      <td>Just because the gymnast is flipping does not ...</td>\n",
       "      <td>ජිම්නාස්ටික් ක්‍රීඩිකාව පෙරළීම නිසා ඇය බාර්වල ...</td>\n",
       "      <td>If \"A large boat drives through the harbor.\" d...</td>\n",
       "      <td>\"වරාය හරහා විශාල බෝට්ටුවක් ධාවනය කරන්නේ නම්.\" ...</td>\n",
       "      <td>2</td>\n",
       "      <td>CoT</td>\n",
       "      <td>cot_esnli_ii</td>\n",
       "      <td>fs_opt</td>\n",
       "    </tr>\n",
       "    <tr>\n",
       "      <th>182902</th>\n",
       "      <td>182902</td>\n",
       "      <td>Test for natural language inference.\\nPremise:...</td>\n",
       "      <td>ස්වාභාවික භාෂා අනුමාන සඳහා පරීක්ෂණය.\\nපරිශ්රය:...</td>\n",
       "      <td>A man walking in front of a Heal's store is no...</td>\n",
       "      <td>හීල් සාප්පුවක් ඉදිරිපිට ඇවිදින මිනිසෙකු මිල දී...</td>\n",
       "      <td>3</td>\n",
       "      <td>CoT</td>\n",
       "      <td>cot_esnli</td>\n",
       "      <td>fs_opt</td>\n",
       "    </tr>\n",
       "    <tr>\n",
       "      <th>182903</th>\n",
       "      <td>182903</td>\n",
       "      <td>Q: Given the sentence \"A group of dogs run dow...</td>\n",
       "      <td>ප්‍රශ්නය: \"සුනඛයන් පිරිසක් වියලි පිට්ටනියක් දි...</td>\n",
       "      <td>Throwing a ball in a bowling alley does not im...</td>\n",
       "      <td>පන්දු යැවීමේ පිටියකට පන්දුවක් විසි කිරීමෙන් එය...</td>\n",
       "      <td>4</td>\n",
       "      <td>CoT</td>\n",
       "      <td>cot_esnli</td>\n",
       "      <td>fs_opt</td>\n",
       "    </tr>\n",
       "  </tbody>\n",
       "</table>\n",
       "<p>182904 rows × 9 columns</p>\n",
       "</div>"
      ]
     },
     "execution_count": 63,
     "metadata": {},
     "output_type": "execute_result"
    }
   ],
   "execution_count": 63
  },
  {
   "metadata": {
    "ExecuteTime": {
     "end_time": "2024-07-23T12:44:14.602243Z",
     "start_time": "2024-07-23T12:44:07.894724Z"
    }
   },
   "cell_type": "code",
   "source": [
    "import os\n",
    "\n",
    "parquet_file_name = \"cot-fsopt\"  # Name of the parquet file to save\n",
    "\n",
    "assert check_row_continuity(merged_df_with_metadata)\n",
    "\n",
    "updated_df = merged_df_with_metadata.drop(columns='Id')\n",
    "\n",
    "\n",
    "def save_as_parquet(df: pd.DataFrame, file_name: str) -> str:\n",
    "    parquet_path = f\"translated_datasets/{file_name}.parquet\"\n",
    "    if os.path.exists(parquet_path):\n",
    "        print(f\"File {parquet_path} already exists. Not overwriting.\")\n",
    "        return parquet_path\n",
    "    df.to_parquet(parquet_path, index=False)\n",
    "    print(f\"Data saved as {parquet_path}\")\n",
    "    return parquet_path\n",
    "\n",
    "\n",
    "parquet_path = save_as_parquet(updated_df, parquet_file_name)"
   ],
   "id": "31fe38ed926db9d5",
   "outputs": [
    {
     "name": "stdout",
     "output_type": "stream",
     "text": [
      "All rows are present and in order.\n",
      "Data saved as translated_datasets/cot-fsopt.parquet\n"
     ]
    }
   ],
   "execution_count": 64
  },
  {
   "metadata": {
    "ExecuteTime": {
     "end_time": "2024-07-23T12:51:48.112527Z",
     "start_time": "2024-07-23T12:50:38.878015Z"
    }
   },
   "cell_type": "code",
   "source": [
    "from pandas import DataFrame\n",
    "import datasets as hf_datasets\n",
    "\n",
    "assert check_row_continuity(merged_df)\n",
    "\n",
    "\n",
    "def upload_subset_to_huggingface(df: DataFrame, repo_id: str, subset_name: str):\n",
    "    print(\"Are you sure you want to upload the dataset to Hugging Face?\")\n",
    "    user_input = input(f\"Type yes to upload {subset_name} subset: \")\n",
    "    if user_input.lower() != 'yes':\n",
    "        print(\"Exiting without uploading.\")\n",
    "\n",
    "    try:\n",
    "        print(f\"Creating dataset from DataFrame with {len(df)} rows.\")\n",
    "        dataset = hf_datasets.Dataset.from_pandas(df)\n",
    "\n",
    "        dataset.push_to_hub(repo_id, config_name=subset_name, split=subset_name)\n",
    "\n",
    "    except Exception as e:\n",
    "        print(f\"An error occurred: {str(e)}\")\n",
    "        raise\n",
    "\n",
    "\n",
    "repo_id = \"0xAIT/sinhala-flan\"\n",
    "subset_name = \"cot_fsopt\"  # Make sure to change this to the subset name\n",
    "\n",
    "upload_subset_to_huggingface(updated_df, repo_id, subset_name)"
   ],
   "id": "32f5b01df129318a",
   "outputs": [
    {
     "name": "stdout",
     "output_type": "stream",
     "text": [
      "All rows are present and in order.\n",
      "Are you sure you want to upload the dataset to Hugging Face?\n",
      "Creating dataset from DataFrame with 182904 rows.\n"
     ]
    },
    {
     "data": {
      "text/plain": [
       "Uploading the dataset shards:   0%|          | 0/3 [00:00<?, ?it/s]"
      ],
      "application/vnd.jupyter.widget-view+json": {
       "version_major": 2,
       "version_minor": 0,
       "model_id": "ce0aeb2a4bd0452ca1aa9e22906e551f"
      }
     },
     "metadata": {},
     "output_type": "display_data"
    },
    {
     "data": {
      "text/plain": [
       "Creating parquet from Arrow format:   0%|          | 0/61 [00:00<?, ?ba/s]"
      ],
      "application/vnd.jupyter.widget-view+json": {
       "version_major": 2,
       "version_minor": 0,
       "model_id": "843c09bde10e406e8dbf18c28de92065"
      }
     },
     "metadata": {},
     "output_type": "display_data"
    },
    {
     "data": {
      "text/plain": [
       "Creating parquet from Arrow format:   0%|          | 0/61 [00:00<?, ?ba/s]"
      ],
      "application/vnd.jupyter.widget-view+json": {
       "version_major": 2,
       "version_minor": 0,
       "model_id": "489213a7a62d44569a7094ffb8a700dc"
      }
     },
     "metadata": {},
     "output_type": "display_data"
    },
    {
     "data": {
      "text/plain": [
       "Creating parquet from Arrow format:   0%|          | 0/61 [00:00<?, ?ba/s]"
      ],
      "application/vnd.jupyter.widget-view+json": {
       "version_major": 2,
       "version_minor": 0,
       "model_id": "14964c0fe1754265a4e0459f6cc99793"
      }
     },
     "metadata": {},
     "output_type": "display_data"
    },
    {
     "data": {
      "text/plain": [
       "README.md:   0%|          | 0.00/633 [00:00<?, ?B/s]"
      ],
      "application/vnd.jupyter.widget-view+json": {
       "version_major": 2,
       "version_minor": 0,
       "model_id": "babc3443587840f18946503d8ab22bd8"
      }
     },
     "metadata": {},
     "output_type": "display_data"
    }
   ],
   "execution_count": 66
  }
 ],
 "metadata": {
  "kernelspec": {
   "display_name": "Python 3",
   "language": "python",
   "name": "python3"
  },
  "language_info": {
   "codemirror_mode": {
    "name": "ipython",
    "version": 2
   },
   "file_extension": ".py",
   "mimetype": "text/x-python",
   "name": "python",
   "nbconvert_exporter": "python",
   "pygments_lexer": "ipython2",
   "version": "2.7.6"
  }
 },
 "nbformat": 4,
 "nbformat_minor": 5
}
