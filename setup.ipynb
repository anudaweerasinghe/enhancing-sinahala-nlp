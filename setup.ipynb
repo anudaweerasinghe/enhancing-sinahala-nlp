{
 "cells": [
  {
   "cell_type": "code",
   "id": "initial_id",
   "metadata": {
    "collapsed": true,
    "ExecuteTime": {
     "end_time": "2024-07-23T13:39:01.026511Z",
     "start_time": "2024-07-23T13:39:01.018503Z"
    }
   },
   "source": [
    "import os\n",
    "\n",
    "\n",
    "def create_folder_and_files(folder_name):\n",
    "    dataset_folder = f\"datasets/{folder_name}\"\n",
    "    outputs_folder = f\"outputs/{folder_name}\"\n",
    "\n",
    "    # Create the folders\n",
    "    os.makedirs(dataset_folder, exist_ok=True)\n",
    "    os.makedirs(outputs_folder, exist_ok=True)\n",
    "\n",
    "    # Create the output folder pointer files\n",
    "    file_names = [\"start-pointer.txt\", \"next-file-index.txt\"]\n",
    "    for file_name in file_names:\n",
    "        with open(f\"{outputs_folder}/{file_name}\", \"w\") as f:\n",
    "            f.write(\"0\")\n",
    "\n",
    "\n",
    "folder_name = \"cot-zsopt\"\n",
    "create_folder_and_files(folder_name)"
   ],
   "outputs": [],
   "execution_count": 2
  }
 ],
 "metadata": {
  "kernelspec": {
   "display_name": "Python 3",
   "language": "python",
   "name": "python3"
  },
  "language_info": {
   "codemirror_mode": {
    "name": "ipython",
    "version": 2
   },
   "file_extension": ".py",
   "mimetype": "text/x-python",
   "name": "python",
   "nbconvert_exporter": "python",
   "pygments_lexer": "ipython2",
   "version": "2.7.6"
  }
 },
 "nbformat": 4,
 "nbformat_minor": 5
}
