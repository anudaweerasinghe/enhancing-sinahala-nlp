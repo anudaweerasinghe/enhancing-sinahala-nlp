{
 "cells": [
  {
   "cell_type": "code",
   "id": "initial_id",
   "metadata": {
    "collapsed": true,
    "ExecuteTime": {
     "end_time": "2024-07-29T09:40:51.544551Z",
     "start_time": "2024-07-29T09:40:51.537784Z"
    }
   },
   "source": [
    "import os\n",
    "\n",
    "\n",
    "def create_folder_and_files(folder_name):\n",
    "    dataset_folder = f\"datasets/{folder_name}\"\n",
    "    outputs_folder = f\"outputs/{folder_name}\"\n",
    "    translated_dataset_folder = \"translated_datasets\"\n",
    "\n",
    "    # Create the folders\n",
    "    os.makedirs(dataset_folder, exist_ok=True)\n",
    "    os.makedirs(outputs_folder, exist_ok=True)\n",
    "    os.makedirs(translated_dataset_folder, exist_ok=True)\n",
    "\n",
    "    # Create the output folder pointer files\n",
    "    file_names = [\"start-pointer.txt\", \"next-file-index.txt\"]\n",
    "    for file_name in file_names:\n",
    "        with open(f\"{outputs_folder}/{file_name}\", \"w\") as f:\n",
    "            f.write(\"0\")\n",
    "\n",
    "\n",
    "folder_name = \"cot-fsopt\"\n",
    "create_folder_and_files(folder_name)"
   ],
   "outputs": [],
   "execution_count": 1
  },
  {
   "metadata": {},
   "cell_type": "markdown",
   "source": [
    "Above script will create the following files and folders which needed to be used in translation process.\n",
    "\n",
    "- datasets\n",
    "    - cot-fsopt\n",
    "- outputs\n",
    "    - cot-fsopt\n",
    "        - next-file-index.txt\n",
    "        - start-pointer.txt\n"
   ],
   "id": "cbeb9a7ee148da43"
  },
  {
   "metadata": {},
   "cell_type": "code",
   "outputs": [],
   "execution_count": null,
   "source": "",
   "id": "f08b3c67cead21c7"
  }
 ],
 "metadata": {
  "kernelspec": {
   "display_name": "Python 3",
   "language": "python",
   "name": "python3"
  },
  "language_info": {
   "codemirror_mode": {
    "name": "ipython",
    "version": 2
   },
   "file_extension": ".py",
   "mimetype": "text/x-python",
   "name": "python",
   "nbconvert_exporter": "python",
   "pygments_lexer": "ipython2",
   "version": "2.7.6"
  }
 },
 "nbformat": 4,
 "nbformat_minor": 5
}
